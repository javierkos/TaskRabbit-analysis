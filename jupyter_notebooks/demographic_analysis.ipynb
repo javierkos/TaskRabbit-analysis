{
 "cells": [
  {
   "cell_type": "markdown",
   "metadata": {},
   "source": [
    "<h1 style=\"text-align:center;\">Demographic Analysis</h1>\n",
    "\n",
    "\n",
    "## Table of contents:\n",
    "* [Intro](#sec-intro)\n",
    "* [Prior hypothesis](#sec-hypoth)\n",
    "* [Analysis](#alys-disp)\n",
    "    * [Dispersity of prices](#alys-disp)"
   ]
  },
  {
   "cell_type": "markdown",
   "metadata": {},
   "source": [
    "For this analysis we will not run code in the notebook and rather load stored plots, as the dataframes stored and loaded are quite heavy."
   ]
  },
  {
   "cell_type": "markdown",
   "metadata": {},
   "source": [
    "First we "
   ]
  },
  {
   "cell_type": "markdown",
   "metadata": {},
   "source": [
    "<img src=\"analysis/plots/heat_maps/Assemble Furniture.png\" width=\"700\" />"
   ]
  },
  {
   "cell_type": "code",
   "execution_count": null,
   "metadata": {},
   "outputs": [],
   "source": []
  }
 ],
 "metadata": {
  "kernelspec": {
   "display_name": "Python 3",
   "language": "python",
   "name": "python3"
  },
  "language_info": {
   "codemirror_mode": {
    "name": "ipython",
    "version": 3
   },
   "file_extension": ".py",
   "mimetype": "text/x-python",
   "name": "python",
   "nbconvert_exporter": "python",
   "pygments_lexer": "ipython3",
   "version": "3.7.0"
  }
 },
 "nbformat": 4,
 "nbformat_minor": 2
}
