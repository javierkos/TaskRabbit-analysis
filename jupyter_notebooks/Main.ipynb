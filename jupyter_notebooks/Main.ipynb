{
 "cells": [
  {
   "cell_type": "markdown",
   "metadata": {},
   "source": [
    "<h1 style=\"text-align:center;\">TaskRabbit Price Analysis Notebooks</h1>\n",
    "\n",
    "\n",
    "## Table of contents:\n",
    "* [Basic data analysis](basic_analysis.ipynb)\n",
    "* [Demographic analysis](demographic_analysis.ipynb)\n",
    "* [Vehicle analysis](Vehicle analysis.ipynb)\n",
    "* [Text analysis](text_analysis.ipynb)\n",
    "* [Image analysis](image_analysis.ipynb)"
   ]
  },
  {
   "cell_type": "code",
   "execution_count": null,
   "metadata": {},
   "outputs": [],
   "source": []
  },
  {
   "cell_type": "code",
   "execution_count": null,
   "metadata": {},
   "outputs": [],
   "source": []
  }
 ],
 "metadata": {
  "kernelspec": {
   "display_name": "Python 3",
   "language": "python",
   "name": "python3"
  },
  "language_info": {
   "codemirror_mode": {
    "name": "ipython",
    "version": 3
   },
   "file_extension": ".py",
   "mimetype": "text/x-python",
   "name": "python",
   "nbconvert_exporter": "python",
   "pygments_lexer": "ipython3",
   "version": "3.7.0"
  }
 },
 "nbformat": 4,
 "nbformat_minor": 2
}
